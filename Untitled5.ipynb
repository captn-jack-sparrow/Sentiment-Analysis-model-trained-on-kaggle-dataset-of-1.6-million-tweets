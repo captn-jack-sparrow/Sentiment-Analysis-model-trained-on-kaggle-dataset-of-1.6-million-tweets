{
 "cells": [
  {
   "cell_type": "code",
   "execution_count": 90,
   "id": "2e0e77ca",
   "metadata": {},
   "outputs": [],
   "source": [
    "import pandas as pd"
   ]
  },
  {
   "cell_type": "code",
   "execution_count": 91,
   "id": "7383e9cb",
   "metadata": {},
   "outputs": [],
   "source": [
    "from sklearn.feature_extraction.text import TfidfVectorizer\n",
    "from sklearn.model_selection import train_test_split\n",
    "from sklearn.svm import LinearSVC\n",
    "from sklearn.metrics import accuracy_score\n"
   ]
  },
  {
   "cell_type": "code",
   "execution_count": 92,
   "id": "e2590a73",
   "metadata": {},
   "outputs": [],
   "source": [
    "ff = pd.read_csv(\"C:\\\\Users\\\\Obama\\\\Downloads\\\\kaggle_datasets\\\\archive_unzip\\\\training.1600000.processed.noemoticon.csv\", encoding = \"ISO-8859-1\")"
   ]
  },
  {
   "cell_type": "code",
   "execution_count": 88,
   "id": "1a640add",
   "metadata": {},
   "outputs": [
    {
     "name": "stdout",
     "output_type": "stream",
     "text": [
      "Accuracy: 0.79614375\n"
     ]
    }
   ],
   "source": [
    "\n",
    "X_train2, X_test2, y_train2, y_test2 = train_test_split(ff[\"@switchfoot http://twitpic.com/2y1zl - Awww, that's a bummer.  You shoulda got David Carr of Third Day to do it. ;D\"], ff[\"0\"], test_size=0.2, random_state=42)\n",
    "\n",
    "# Vectorize the text data\n",
    "vectorizer = TfidfVectorizer()\n",
    "X_train2 = vectorizer.fit_transform(X_train2)\n",
    "X_test2 = vectorizer.transform(X_test2)\n",
    "\n",
    "# Train the SVM classifier\n",
    "clf = LinearSVC()\n",
    "clf.fit(X_train2, y_train2)\n",
    "\n",
    "# Evaluate the performance of the model\n",
    "y_pred = clf.predict(X_test2)\n",
    "accuracy = accuracy_score(y_test2, y_pred)\n",
    "print(\"Accuracy:\", accuracy)\n",
    "\n"
   ]
  }
 ],
 "metadata": {
  "kernelspec": {
   "display_name": "Python 3 (ipykernel)",
   "language": "python",
   "name": "python3"
  },
  "language_info": {
   "codemirror_mode": {
    "name": "ipython",
    "version": 3
   },
   "file_extension": ".py",
   "mimetype": "text/x-python",
   "name": "python",
   "nbconvert_exporter": "python",
   "pygments_lexer": "ipython3",
   "version": "3.9.13"
  }
 },
 "nbformat": 4,
 "nbformat_minor": 5
}
